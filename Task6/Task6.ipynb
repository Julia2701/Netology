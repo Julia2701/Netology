{
 "cells": [
  {
   "cell_type": "markdown",
   "metadata": {},
   "source": [
    "# 1 задание\n",
    "Переведите содержимое файла purchase_log.txt в словарь purchases вида:\n",
    "{‘1840e0b9d4’: ‘Продукты’, …}"
   ]
  },
  {
   "cell_type": "code",
   "execution_count": 1,
   "metadata": {},
   "outputs": [
    {
     "name": "stdout",
     "output_type": "stream",
     "text": [
      "{'user_id': 'category', '1840e0b9d4': 'Продукты', '4e4f90fcfb': 'Электроника', 'afea8d72fc': 'Электроника', '373a6055fe': 'Бытовая техника', '9b2ab046f3': 'Электроника'}\n"
     ]
    }
   ],
   "source": [
    "import json\n",
    "i = 0\n",
    "purchases = {}\n",
    "with open('purchase_log.txt', encoding = 'utf-8') as f:\n",
    "    for line in f:\n",
    "        line = line.strip()\n",
    "        diction = json.loads(line)\n",
    "        purchases[diction['user_id']] = diction['category']\n",
    "        #чтобы вывести часть строчек для наглядности:\n",
    "        i += 1\n",
    "        if i > 5:\n",
    "            print(purchases)\n",
    "            break"
   ]
  },
  {
   "cell_type": "markdown",
   "metadata": {},
   "source": [
    "# 2 задание\n",
    "Для каждого user_id в файле visit_log.csv определите третий столбец с категорией покупки (если покупка была, сам файл visit_log.csv изменять не надо). Запишите в файл funnel.csv визиты из файла visit_log.csv, в которых были покупки с указанием категории."
   ]
  },
  {
   "cell_type": "code",
   "execution_count": 2,
   "metadata": {},
   "outputs": [],
   "source": [
    "#из прошлого задания без ограничения по числу строчек\n",
    "import json\n",
    "i = 0\n",
    "purchases = {}\n",
    "with open('purchase_log.txt', encoding = 'utf-8') as f:\n",
    "    for line in f:\n",
    "        line = line.strip()\n",
    "        diction = json.loads(line)\n",
    "        purchases[diction['user_id']] = diction['category']"
   ]
  },
  {
   "cell_type": "code",
   "execution_count": 6,
   "metadata": {},
   "outputs": [],
   "source": [
    "with open('visit_log.csv', 'r') as v:\n",
    "    with open('funnel.csv', 'w') as fu:\n",
    "        for line in v:\n",
    "            visit = line.strip().split(',')\n",
    "#проверка есть ли такой id в purchases, если да, то добавляем столбец с категорией оттуда и записываем в файл funnel.csv\n",
    "            if visit[0] in purchases.keys():\n",
    "                visit.append(purchases[visit[0]])\n",
    "                add_comma = ','.join(visit)\n",
    "                fu.write(add_comma + '\\n')"
   ]
  },
  {
   "cell_type": "code",
   "execution_count": 7,
   "metadata": {},
   "outputs": [
    {
     "name": "stdout",
     "output_type": "stream",
     "text": [
      "user_id,source,category\n",
      "\n",
      "1840e0b9d4,other,Продукты\n",
      "\n",
      "4e4f90fcfb,context,Электроника\n",
      "\n",
      "afea8d72fc,other,Электроника\n",
      "\n",
      "2824221f38,email,Продукты\n",
      "\n",
      "373a6055fe,other,Бытовая техника\n",
      "\n",
      "9b2ab046f3,other,Электроника\n",
      "\n"
     ]
    }
   ],
   "source": [
    "#прочитаем несколько строчек файла funnel.csv\n",
    "with open('funnel.csv', 'r') as fun:\n",
    "    for i, line in enumerate(fun):\n",
    "        print(line)\n",
    "        if i > 5:\n",
    "            break"
   ]
  }
 ],
 "metadata": {
  "kernelspec": {
   "display_name": "Python 3",
   "language": "python",
   "name": "python3"
  },
  "language_info": {
   "codemirror_mode": {
    "name": "ipython",
    "version": 3
   },
   "file_extension": ".py",
   "mimetype": "text/x-python",
   "name": "python",
   "nbconvert_exporter": "python",
   "pygments_lexer": "ipython3",
   "version": "3.8.5"
  }
 },
 "nbformat": 4,
 "nbformat_minor": 4
}
