{
 "cells": [
  {
   "cell_type": "markdown",
   "metadata": {},
   "source": [
    "# Задание 1\n",
    "Печатные газеты использовали свой формат дат для каждого выпуска. Для каждой газеты из списка напишите формат указанной даты для перевода в объект datetime:\n",
    "The Moscow Times - Wednesday, October 2, 2002\n",
    "The Guardian - Friday, 11.10.13\n",
    "Daily News - Thursday, 18 August 1977"
   ]
  },
  {
   "cell_type": "code",
   "execution_count": 2,
   "metadata": {},
   "outputs": [
    {
     "name": "stdout",
     "output_type": "stream",
     "text": [
      "2002-10-02 00:00:00\n",
      "2013-10-11 00:00:00\n",
      "1977-08-18 00:00:00\n"
     ]
    },
    {
     "data": {
      "text/plain": [
       "3"
      ]
     },
     "execution_count": 2,
     "metadata": {},
     "output_type": "execute_result"
    }
   ],
   "source": [
    "from datetime import datetime\n",
    "the_moscow_times = 'Wednesday, October 2, 2002'\n",
    "the_guardian = 'Friday, 11.10.13'\n",
    "daily_news = 'Thursday, 18 August 1977'\n",
    "\n",
    "the_moscow_times_datetime = datetime.strptime(the_moscow_times, '%A, %B %d, %Y')\n",
    "print(the_moscow_times_datetime)\n",
    "the_guardian_datetime = datetime.strptime(the_guardian, '%A, %d.%m.%y')\n",
    "print(the_guardian_datetime)\n",
    "daily_news_datetime = datetime.strptime(daily_news, '%A, %d %B %Y')\n",
    "print(daily_news_datetime)\n",
    "#проверим Daily News. Четверг - это цифра 3\n",
    "daily_news_datetime.weekday()"
   ]
  },
  {
   "cell_type": "markdown",
   "metadata": {},
   "source": [
    "# Задание 2\n",
    "Дан поток дат в формате YYYY-MM-DD, в которых встречаются некорректные значения:\n",
    "stream = [‘2018-04-02’, ‘2018-02-29’, ‘2018-19-02’]\n",
    "\n",
    "Напишите функцию, которая проверяет эти даты на корректность. Т. е. для каждой даты возвращает True (дата корректна) или False (некорректная дата)."
   ]
  },
  {
   "cell_type": "code",
   "execution_count": 3,
   "metadata": {},
   "outputs": [
    {
     "name": "stdout",
     "output_type": "stream",
     "text": [
      "2018-04-02 True\n",
      "2018-02-29 False\n",
      "2018-19-02 False\n"
     ]
    }
   ],
   "source": [
    "stream = ['2018-04-02', '2018-02-29', '2018-19-02']\n",
    "\n",
    "def correct_date(date_to_check):\n",
    "    try:\n",
    "        date_to_check = datetime.strptime(date_to_check, '%Y-%m-%d')\n",
    "        return True\n",
    "    except:\n",
    "        return False\n",
    "\n",
    "for i in stream:\n",
    "    print(i, correct_date(i))"
   ]
  },
  {
   "cell_type": "markdown",
   "metadata": {},
   "source": [
    "# Задание 3\n",
    "Напишите функцию date_range, которая возвращает список дат за период от start_date до end_date. Даты должны вводиться в формате YYYY-MM-DD. В случае неверного формата или при start_date > end_date должен возвращаться пустой список."
   ]
  },
  {
   "cell_type": "code",
   "execution_count": 4,
   "metadata": {},
   "outputs": [],
   "source": [
    "from datetime import timedelta\n",
    "\n",
    "def date_range(start_date, end_date):\n",
    "    list_date = []\n",
    "    try:\n",
    "        start_date = datetime.strptime(start_date, '%Y-%m-%d')\n",
    "        end_date = datetime.strptime(end_date, '%Y-%m-%d')\n",
    "        while start_date <= end_date:\n",
    "            list_date.append(start_date)\n",
    "            start_date += timedelta(days = 1)\n",
    "        return list_date\n",
    "    except:\n",
    "        return list_date    "
   ]
  },
  {
   "cell_type": "code",
   "execution_count": 5,
   "metadata": {},
   "outputs": [
    {
     "data": {
      "text/plain": [
       "[]"
      ]
     },
     "execution_count": 5,
     "metadata": {},
     "output_type": "execute_result"
    }
   ],
   "source": [
    "#неверный формат\n",
    "date_range('2021 04-01', '2021-04-21')"
   ]
  },
  {
   "cell_type": "code",
   "execution_count": 6,
   "metadata": {},
   "outputs": [
    {
     "data": {
      "text/plain": [
       "[]"
      ]
     },
     "execution_count": 6,
     "metadata": {},
     "output_type": "execute_result"
    }
   ],
   "source": [
    "#при start_date > end_date\n",
    "date_range('2021-04-22', '2021-04-21')"
   ]
  },
  {
   "cell_type": "code",
   "execution_count": 7,
   "metadata": {},
   "outputs": [
    {
     "data": {
      "text/plain": [
       "[datetime.datetime(2021, 4, 11, 0, 0),\n",
       " datetime.datetime(2021, 4, 12, 0, 0),\n",
       " datetime.datetime(2021, 4, 13, 0, 0),\n",
       " datetime.datetime(2021, 4, 14, 0, 0),\n",
       " datetime.datetime(2021, 4, 15, 0, 0),\n",
       " datetime.datetime(2021, 4, 16, 0, 0),\n",
       " datetime.datetime(2021, 4, 17, 0, 0),\n",
       " datetime.datetime(2021, 4, 18, 0, 0),\n",
       " datetime.datetime(2021, 4, 19, 0, 0),\n",
       " datetime.datetime(2021, 4, 20, 0, 0),\n",
       " datetime.datetime(2021, 4, 21, 0, 0)]"
      ]
     },
     "execution_count": 7,
     "metadata": {},
     "output_type": "execute_result"
    }
   ],
   "source": [
    "#список дат за период от start_date до end_date\n",
    "date_range('2021-04-11', '2021-04-21')"
   ]
  },
  {
   "cell_type": "code",
   "execution_count": null,
   "metadata": {},
   "outputs": [],
   "source": []
  }
 ],
 "metadata": {
  "kernelspec": {
   "display_name": "Python 3",
   "language": "python",
   "name": "python3"
  },
  "language_info": {
   "codemirror_mode": {
    "name": "ipython",
    "version": 3
   },
   "file_extension": ".py",
   "mimetype": "text/x-python",
   "name": "python",
   "nbconvert_exporter": "python",
   "pygments_lexer": "ipython3",
   "version": "3.8.5"
  }
 },
 "nbformat": 4,
 "nbformat_minor": 4
}
